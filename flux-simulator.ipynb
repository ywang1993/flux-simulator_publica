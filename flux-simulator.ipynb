{
 "cells": [
  {
   "cell_type": "markdown",
   "metadata": {},
   "source": [
    "## PIPELINE"
   ]
  },
  {
   "cell_type": "markdown",
   "metadata": {},
   "source": [
    "### generate expression profile"
   ]
  },
  {
   "cell_type": "code",
   "execution_count": 8,
   "metadata": {
    "ExecuteTime": {
     "end_time": "2020-04-29T23:28:59.851777Z",
     "start_time": "2020-04-29T23:28:59.779280Z"
    }
   },
   "outputs": [],
   "source": [
    "%%bash\n",
    "echo \"\n",
    "### Reading Reference\n",
    "GEN_DIR\t../reference/GRCh37_by_chrom/\n",
    "REF_FILE_NAME\t../reference/gencode.v31lift37.annotation.gtf\n",
    "\n",
    "### Expression\n",
    "PRO_FILE_NAME\t../profiles/count_30M.PRO\n",
    "NB_MOLECULES\t30000000\n",
    "TSS_MEAN\t50\n",
    "POLYA_SCALE\tNaN\n",
    "POLYA_SHAPE\tNaN\n",
    "\" > ./paraFiles/expression.PAR\n",
    "\n",
    "echo '\n",
    "#! /bin/bash\n",
    "#$ -S /bin/bash\n",
    "#$ -R y\n",
    "#$ -cwd\n",
    "#$ -V\n",
    "#$ -m ea\n",
    "#$ -M wyynju1993@gmail.com\n",
    "#$ -j y\n",
    "#$ -l h_vmem=15G,m_mem_free=15G\n",
    "#$ -pe smp 4\n",
    "#$ -N flux-exp\n",
    "flux-simulator -p ../paraFiles/expression.PAR -x\n",
    "' > ./qsub_respublica/qsub_flux-exp.sh"
   ]
  },
  {
   "cell_type": "markdown",
   "metadata": {},
   "source": [
    "### moidfy expression profile column 6 METTL4 expression profile"
   ]
  },
  {
   "cell_type": "code",
   "execution_count": 1,
   "metadata": {
    "ExecuteTime": {
     "end_time": "2020-04-29T23:19:23.329446Z",
     "start_time": "2020-04-29T23:19:23.258618Z"
    }
   },
   "outputs": [],
   "source": [
    "%%bash\n",
    "rm profiles/abundance.tsv\n",
    "ln -s /mnt/isilon/xing_lab/wangy14/project/METTL4/exp/kallisto/293T-WT-1/abundance.tsv profiles/abundance.tsv"
   ]
  },
  {
   "cell_type": "code",
   "execution_count": 6,
   "metadata": {
    "ExecuteTime": {
     "end_time": "2020-04-29T23:19:54.057303Z",
     "start_time": "2020-04-29T23:19:52.517071Z"
    }
   },
   "outputs": [],
   "source": [
    "count = {}\n",
    "with open('profiles/abundance.tsv', 'r') as fin:\n",
    "    fin.readline()\n",
    "    for line in fin:\n",
    "        target_id, length, eff_length, est_counts, tpm = line.strip().split('\\t')\n",
    "        target_id = target_id.split('|')[0]\n",
    "        count[target_id] = int(float(tpm) * 50)\n",
    "\n",
    "with open('profiles/count_30M.PRO', 'r') as fin, open('profiles/count_modified.PRO', 'w') as fout:\n",
    "    for line in fin:\n",
    "        x = line.strip().split('\\t')\n",
    "        tx = x[1]\n",
    "        if tx in count:\n",
    "            fout.write('\\t'.join(x[:5]) + '\\t' + str(count[tx]) + '\\n')"
   ]
  },
  {
   "cell_type": "code",
   "execution_count": 7,
   "metadata": {
    "ExecuteTime": {
     "end_time": "2020-04-29T23:19:54.822642Z",
     "start_time": "2020-04-29T23:19:54.062169Z"
    }
   },
   "outputs": [
    {
     "name": "stdout",
     "output_type": "stream",
     "text": [
      "45756065\n"
     ]
    }
   ],
   "source": [
    "%%bash\n",
    "awk -F '\\t' '{sum += $6} END {print sum}' profiles/count_modified.PRO"
   ]
  },
  {
   "cell_type": "markdown",
   "metadata": {},
   "source": [
    "### generate libraries"
   ]
  },
  {
   "cell_type": "code",
   "execution_count": 9,
   "metadata": {
    "ExecuteTime": {
     "end_time": "2020-04-29T23:29:04.972173Z",
     "start_time": "2020-04-29T23:29:04.920591Z"
    }
   },
   "outputs": [],
   "source": [
    "%%bash\n",
    "echo '\n",
    "### Reading Reference\n",
    "GEN_DIR\t../reference/GRCh37_by_chrom/\n",
    "REF_FILE_NAME\t../reference/gencode.v31lift37.annotation.gtf\n",
    "PRO_FILE_NAME\t../profiles/count_modified.PRO\n",
    "\n",
    "### Library Construction\n",
    "#### fragmentation\n",
    "# FRAG_SUBSTRATE\tRNA\n",
    "# FRAG_METHOD\tUR\n",
    "# FRAG_UR_ETA\tNaN\n",
    "# FRAG_UR_D0\t1\n",
    "#### Reverse Transcription\n",
    "# RTRANSCRIPTION\ttrue\n",
    "# RT_PRIMER\tRH\n",
    "RT_LOSSLESS\tYES\n",
    "# RT_MIN\t500\n",
    "# RT_MAX\t5500\n",
    "#### Filtering & Amplification\n",
    "FILTERING\ttrue\n",
    "GC_MEAN\tNaN\n",
    "PCR_PROBABILITY\t0.05\n",
    "LIB_FILE_NAME\t../libraries/count_modified.LIB\n",
    "' > ./paraFiles/lib.PAR"
   ]
  },
  {
   "cell_type": "code",
   "execution_count": 10,
   "metadata": {
    "ExecuteTime": {
     "end_time": "2020-04-29T23:29:06.625068Z",
     "start_time": "2020-04-29T23:29:06.573810Z"
    }
   },
   "outputs": [],
   "source": [
    "%%bash\n",
    "echo '\n",
    "#! /bin/bash\n",
    "#$ -S /bin/bash\n",
    "#$ -R y\n",
    "#$ -cwd\n",
    "#$ -V\n",
    "#$ -m ea\n",
    "#$ -M wyynju1993@gmail.com\n",
    "#$ -j y\n",
    "#$ -l h_vmem=15G,m_mem_free=15G\n",
    "#$ -pe smp 4\n",
    "#$ -N flux-lib\n",
    "flux-simulator -p ../paraFiles/lib.PAR -l\n",
    "' > ./qsub_respublica/qsub_flux-lib.sh"
   ]
  },
  {
   "cell_type": "markdown",
   "metadata": {},
   "source": [
    "### generate sequences"
   ]
  },
  {
   "cell_type": "code",
   "execution_count": 11,
   "metadata": {
    "ExecuteTime": {
     "end_time": "2020-04-29T23:29:08.581156Z",
     "start_time": "2020-04-29T23:29:08.511961Z"
    }
   },
   "outputs": [],
   "source": [
    "%%bash\n",
    "echo '\n",
    "GEN_DIR\t../reference/GRCh37_by_chrom/\n",
    "REF_FILE_NAME\t../reference/gencode.v31lift37.annotation.gtf\n",
    "LIB_FILE_NAME\t../libraries/count_modified.LIB\n",
    "READ_LENGTH\t76\n",
    "PAIRED_END\ttrue\n",
    "ERR_FILE\t76\n",
    "FASTA\ttrue\n",
    "UNIQUE_IDS\tNO\n",
    "READ_NUMBER\t20000000\n",
    "SEQ_FILE_NAME\t../fastq/10M.bed\n",
    "' > paraFiles/seq_10M.PAR\n",
    "\n",
    "echo '\n",
    "GEN_DIR\t../reference/GRCh37_by_chrom/\n",
    "REF_FILE_NAME\t../reference/gencode.v31lift37.annotation.gtf\n",
    "LIB_FILE_NAME\t../libraries/count_modified.LIB\n",
    "READ_LENGTH\t76\n",
    "PAIRED_END\ttrue\n",
    "ERR_FILE\t76\n",
    "FASTA\ttrue\n",
    "UNIQUE_IDS\tNO\n",
    "READ_NUMBER\t40000000\n",
    "SEQ_FILE_NAME\t../fastq/20M.bed\n",
    "' > paraFiles/seq_20M.PAR\n",
    "\n",
    "echo '\n",
    "GEN_DIR\t../reference/GRCh37_by_chrom/\n",
    "REF_FILE_NAME\t../reference/gencode.v31lift37.annotation.gtf\n",
    "LIB_FILE_NAME\t../libraries/count_modified.LIB\n",
    "READ_LENGTH\t76\n",
    "PAIRED_END\ttrue\n",
    "ERR_FILE\t76\n",
    "FASTA\ttrue\n",
    "UNIQUE_IDS\tNO\n",
    "READ_NUMBER\t60000000\n",
    "SEQ_FILE_NAME\t../fastq/30M.bed\n",
    "' > paraFiles/seq_30M.PAR\n",
    "\n",
    "echo '\n",
    "GEN_DIR\t../reference/GRCh37_by_chrom/\n",
    "REF_FILE_NAME\t../reference/gencode.v31lift37.annotation.gtf\n",
    "LIB_FILE_NAME\t../libraries/count_modified.LIB\n",
    "READ_LENGTH\t76\n",
    "PAIRED_END\ttrue\n",
    "ERR_FILE\t76\n",
    "FASTA\ttrue\n",
    "UNIQUE_IDS\tNO\n",
    "READ_NUMBER\t80000000\n",
    "SEQ_FILE_NAME\t../fastq/40M.bed\n",
    "' > paraFiles/seq_40M.PAR\n",
    "\n",
    "echo '\n",
    "GEN_DIR\t../reference/GRCh37_by_chrom/\n",
    "REF_FILE_NAME\t../reference/gencode.v31lift37.annotation.gtf\n",
    "LIB_FILE_NAME\t../libraries/count_modified.LIB\n",
    "READ_LENGTH\t76\n",
    "PAIRED_END\ttrue\n",
    "ERR_FILE\t76\n",
    "FASTA\ttrue\n",
    "UNIQUE_IDS\tNO\n",
    "READ_NUMBER\t100000000\n",
    "SEQ_FILE_NAME\t../fastq/50M.bed\n",
    "' > paraFiles/seq_50M.PAR"
   ]
  },
  {
   "cell_type": "code",
   "execution_count": 12,
   "metadata": {
    "ExecuteTime": {
     "end_time": "2020-04-29T23:29:09.562924Z",
     "start_time": "2020-04-29T23:29:09.508606Z"
    }
   },
   "outputs": [],
   "source": [
    "%%bash\n",
    "echo 'flux-simulator -p ../paraFiles/seq_10M.PAR -s\n",
    "flux-simulator -p ../paraFiles/seq_20M.PAR -s\n",
    "flux-simulator -p ../paraFiles/seq_30M.PAR -s\n",
    "flux-simulator -p ../paraFiles/seq_40M.PAR -s\n",
    "flux-simulator -p ../paraFiles/seq_50M.PAR -s' > ./qsub_respublica/run_flux-seq.txt\n",
    "\n",
    "echo '\n",
    "#! /bin/bash\n",
    "#$ -S /bin/bash\n",
    "#$ -R y\n",
    "#$ -cwd\n",
    "#$ -V\n",
    "#$ -m ea\n",
    "#$ -M wyynju1993@gmail.com\n",
    "#$ -j y\n",
    "#$ -l h_vmem=15G,m_mem_free=15G\n",
    "#$ -pe smp 4\n",
    "#$ -t 1-5:1\n",
    "#$ -N flux-seq\n",
    "`sed -n ${SGE_TASK_ID}p run_flux-seq.txt`\n",
    "' > ./qsub_respublica/qsub_flux-seq.sh"
   ]
  },
  {
   "cell_type": "markdown",
   "metadata": {},
   "source": [
    "## Calculate PSI"
   ]
  },
  {
   "cell_type": "code",
   "execution_count": 1,
   "metadata": {
    "ExecuteTime": {
     "end_time": "2020-05-25T04:50:54.524006Z",
     "start_time": "2020-05-25T04:49:12.190217Z"
    }
   },
   "outputs": [
    {
     "name": "stdout",
     "output_type": "stream",
     "text": [
      "start: parsing exp profile\n",
      "end  : parsing exp profile\n",
      "start: detecting SE\n",
      "end  : detecting SE\n",
      "start: calculating PSI\n",
      "end  : calculating PSI\n"
     ]
    }
   ],
   "source": [
    "%%bash\n",
    "python ./src/calculatePSI.py --gtf ./reference/gencode.v31lift37.annotation.gtf --pro ./profiles/count_modified.PRO --rmats ../rmats/post/fromGTF.MXE.txt,../rmats/post/fromGTF.RI.txt,../rmats/post/fromGTF.A3SS.txt,../rmats/post/fromGTF.A5SS.txt,../rmats/post/fromGTF.SE.txt\n"
   ]
  },
  {
   "cell_type": "markdown",
   "metadata": {},
   "source": [
    "## UNDERSTAND parameter"
   ]
  },
  {
   "cell_type": "markdown",
   "metadata": {},
   "source": [
    "### 30M NB_molecule example"
   ]
  },
  {
   "cell_type": "code",
   "execution_count": 2,
   "metadata": {
    "ExecuteTime": {
     "end_time": "2020-04-28T20:08:46.677466Z",
     "start_time": "2020-04-28T20:08:46.648483Z"
    }
   },
   "outputs": [],
   "source": [
    "%%bash\n",
    "echo \"\n",
    "### Reading Reference\n",
    "GEN_DIR\t../reference/GRCh37_by_chrom/\n",
    "REF_FILE_NAME\t../reference/gencode.v31lift37.annotation.gtf\n",
    "\n",
    "### Expression\n",
    "NB_MOLECULES\t30000000\n",
    "TSS_MEAN\t50\n",
    "POLYA_SCALE\tNaN\n",
    "POLYA_SHAPE\tNaN\n",
    "PRO_FILE_NAME\t../profiles/count_modified.PRO\n",
    "\n",
    "### Library Construction\n",
    "#### fragmentation\n",
    "# FRAG_SUBSTRATE\tRNA\n",
    "# FRAG_METHOD\tUR\n",
    "# FRAG_UR_ETA\tNaN\n",
    "# FRAG_UR_D0\t1\n",
    "#### Reverse Transcription\n",
    "# RTRANSCRIPTION\ttrue\n",
    "# RT_PRIMER\tRH\n",
    "RT_LOSSLESS\tYES\n",
    "# RT_MIN\t500\n",
    "# RT_MAX\t5500\n",
    "#### Filtering & Amplification\n",
    "FILTERING\ttrue\n",
    "GC_MEAN\tNaN\n",
    "PCR_PROBABILITY\t0.05\n",
    "# SIZE_DISTRIBUTION\tcython_rMATS/frag_dist.txt\t#Frag_dist.txt is a single-column text file storing the first 10000 fragment length.\n",
    "LIB_FILE_NAME\t../libraries/count_modified.LIB\n",
    "\n",
    "### sequencing\n",
    "READ_LENGTH\t76\n",
    "PAIRED_END\ttrue\n",
    "ERR_FILE\t76\n",
    "FASTA\ttrue\n",
    "UNIQUE_IDS\tNO\n",
    "READ_NUMBER\t60000000\n",
    "SEQ_FILE_NAME\t../fastq/30M.bed\n",
    "\" > paraFiles/example_unmodified.PAR"
   ]
  },
  {
   "cell_type": "markdown",
   "metadata": {},
   "source": [
    "### example from NBT \n",
    "***Sailfish enables alignment-free isoform quantification from RNA-seq reads using lightweight algorithms***\n"
   ]
  },
  {
   "cell_type": "raw",
   "metadata": {},
   "source": [
    "# Expression ###\n",
    "NB_MOLECULES 5000000\n",
    "REF_FILE_NAME GRCh37_annotations.gtf\n",
    "GEN_DIR GRCh37/chrs\n",
    "TSS_MEAN 50\n",
    "POLYA_SCALE NaN\n",
    "POLYA_SHAPE NaN\n",
    "### Fragmentation ###\n",
    "FRAG_SUBSTRATE RNA\n",
    "FRAG_METHOD UR\n",
    "FRAG_UR_ETA NaN\n",
    "FRAG_UR_D0 1\n",
    "### Reverse Transcription ###\n",
    "RTRANSCRIPTION YES\n",
    "RT_PRIMER RH\n",
    "RT_LOSSLESS YES\n",
    "RT_MIN 500\n",
    "RT_MAX 5500\n",
    "### Filtering & Amplification ###\n",
    "FILTERING YES\n",
    "GC_MEAN NaN\n",
    "PCR_PROBABILITY 0.05\n",
    "### Sequencing ###\n",
    "READ_NUMBER 150000000\n",
    "READ_LENGTH 76\n",
    "PAIRED_END YES\n",
    "ERR_FILE 76\n",
    "FASTA YES\n",
    "UNIQUE_IDS NO"
   ]
  }
 ],
 "metadata": {
  "kernelspec": {
   "display_name": "Python 2",
   "language": "python",
   "name": "python2"
  },
  "language_info": {
   "codemirror_mode": {
    "name": "ipython",
    "version": 2
   },
   "file_extension": ".py",
   "mimetype": "text/x-python",
   "name": "python",
   "nbconvert_exporter": "python",
   "pygments_lexer": "ipython2",
   "version": "2.7.15"
  },
  "toc": {
   "base_numbering": 1,
   "nav_menu": {},
   "number_sections": true,
   "sideBar": true,
   "skip_h1_title": false,
   "title_cell": "Table of Contents",
   "title_sidebar": "Contents",
   "toc_cell": false,
   "toc_position": {},
   "toc_section_display": true,
   "toc_window_display": true
  }
 },
 "nbformat": 4,
 "nbformat_minor": 2
}
